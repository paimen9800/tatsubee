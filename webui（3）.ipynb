{
  "cells": [
    {
      "cell_type": "code",
      "execution_count": null,
      "metadata": {},
      "outputs": [],
      "source": [
        "# (1) \u4eee\u60f3\u74b0\u5883\u306e\u30bb\u30c3\u30c8\u30a2\u30c3\u30d7\u3068pip\u306e\u30a4\u30f3\u30b9\u30c8\u30fc\u30eb\n",
        "!rm -rf /notebooks/env\n",
        "!python3.10 -m venv /notebooks/env\n",
        "!curl -sS https://bootstrap.pypa.io/get-pip.py | /notebooks/env/bin/python3.10\n",
        "!/notebooks/env/bin/pip install --upgrade pip setuptools\n"
      ]
    },
    {
      "cell_type": "code",
      "execution_count": null,
      "metadata": {},
      "outputs": [],
      "source": [
        "# (2) \u5fc5\u9808\u30d1\u30c3\u30b1\u30fc\u30b8\u306e\u30a4\u30f3\u30b9\u30c8\u30fc\u30eb\n",
        "!/notebooks/env/bin/pip install torch==1.13.1+cu116 torchvision==0.14.1+cu116 torchaudio==0.13.1 --extra-index-url https://download.pytorch.org/whl/cu116\n",
        "!/notebooks/env/bin/pip install xformers==0.0.16 matplotlib ipython triton==2.0.0 torchmetrics\n"
      ]
    },
    {
      "cell_type": "code",
      "execution_count": null,
      "metadata": {},
      "outputs": [],
      "source": [
        "# (3) AUTOMATIC1111\u306e\u30c0\u30a6\u30f3\u30ed\u30fc\u30c9\n",
        "%cd /notebooks\n",
        "!rm -rf stable-diffusion-webui\n",
        "!git clone https://github.com/AUTOMATIC1111/stable-diffusion-webui\n"
      ]
    },
    {
      "cell_type": "code",
      "execution_count": null,
      "metadata": {},
      "outputs": [],
      "source": [
        "# (4) \u30e2\u30c7\u30eb\u306e\u30c0\u30a6\u30f3\u30ed\u30fc\u30c9\uff08\u3053\u3053\u306b\u30c0\u30a6\u30f3\u30ed\u30fc\u30c9\u3057\u305f\u3044\u30e2\u30c7\u30eb\u3092\u8ffd\u52a0\uff09\n",
        "%cd /notebooks/stable-diffusion-webui/models/Stable-diffusion\n",
        "!wget -nc https://civitai.com/api/download/models/95489 -O anylora.safetensors\n",
        "!wget -nc https://civitai.com/api/download/models/112809 -O Meinaunreal.safetensors\n",
        "!wget -nc https://civitai.com/api/download/models/948574 -O Meinamix.safetensors\n",
        "%cd /notebooks/stable-diffusion-webui/embeddings\n",
        "!wget -nc https://civitai.com/api/download/models/60938 -O negative_hand-neg.pt\n",
        "!wget -nc https://huggingface.co/datasets/Nerfgun3/bad_prompt/resolve/main/bad_prompt_version2.pt -O bad_prompt.pt\n",
        "!wget -nc https://huggingface.co/datasets/gsdf/EasyNegative/resolve/main/EasyNegative.safetensors?download=true -O easynegative.safetensors\n",
        "%cd /notebooks/stable-diffusion-webui/models/Lora\n",
        "!wget -nc https://civitai.com/api/download/models/52340 -O GirlfriendMix2.safetensors\n",
        "!wget -nc https://civitai.com/api/download/models/228643 -O asuka soryu.safetensors\n",
        "%cd /notebooks/stable-diffusion-webui/models/ControlNet\n",
        "!wget -nc https://huggingface.co/comfyanonymous/ControlNet-v1-1_fp16_safetensors/resolve/main/control_v11p_sd15_canny_fp16.safetensors -O control_v11p_sd15_canny_fp16.safetensors\n",
        "!wget -nc https://huggingface.co/comfyanonymous/ControlNet-v1-1_fp16_safetensors/resolve/main/control_v11p_sd15_openpose_fp16.safetensors -O control_v11p_sd15_openpose_fp16.safetensors\n"
      ]
    },
    {
      "cell_type": "code",
      "execution_count": null,
      "metadata": {},
      "outputs": [],
      "source": [
        "# (5) WebUI\u306e\u8d77\u52d5\n",
        "%cd /notebooks/stable-diffusion-webui\n",
        "!/notebooks/env/bin/python3.10 launch.py --xformers --enable-insecure-extension-access --share --gradio-queue\n"
      ]
    }
  ],
  "metadata": {
    "colab": {
      "private_outputs": true,
      "provenance": []
    },
    "gpuClass": "standard",
    "kernelspec": {
      "display_name": "Python 3 (ipykernel)",
      "language": "python",
      "name": "python3"
    },
    "language_info": {
      "codemirror_mode": {
        "name": "ipython",
        "version": 3
      },
      "file_extension": ".py",
      "mimetype": "text/x-python",
      "name": "python",
      "nbconvert_exporter": "python",
      "pygments_lexer": "ipython3",
      "version": "3.9.16"
    }
  },
  "nbformat": 4,
  "nbformat_minor": 0
}